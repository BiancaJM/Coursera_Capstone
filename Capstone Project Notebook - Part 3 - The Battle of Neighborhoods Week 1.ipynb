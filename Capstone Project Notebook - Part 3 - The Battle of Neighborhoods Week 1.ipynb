{
 "cells": [
  {
   "cell_type": "markdown",
   "metadata": {},
   "source": [
    "# Applied Data Science Capstone | IBM Data Science Professional Certificate\n",
    "## 3. The Battle of Neighborhoods (Week 1)"
   ]
  },
  {
   "cell_type": "markdown",
   "metadata": {},
   "source": [
    "Now that you have been equipped with the skills and the tools to use location data to explore a geographical location, over the course of two weeks, you will have the opportunity to be as creative as you want and come up with an idea to leverage the Foursquare location data to explore or compare neighborhoods or cities of your choice or to come up with a problem that you can use the Foursquare location data to solve. If you cannot think of an idea or a problem, here are some ideas to get you started:\n",
    "\n",
    "1. In Module 3, we explored New York City and the city of Toronto and segmented and clustered their neighborhoods. Both cities are very diverse and are the financial capitals of their respective countries. One interesting idea would be to compare the neighborhoods of the two cities and determine how similar or dissimilar they are. Is New York City more like Toronto or Paris or some other multicultural city? I will leave it to you to refine this idea.\n",
    "2. In a city of your choice, if someone is looking to open a restaurant, where would you recommend that they open it? Similarly, if a contractor is trying to start their own business, where would you recommend that they setup their office?\n",
    "\n",
    "These are just a couple of many ideas and problems that can be solved using location data in addition to other datasets. No matter what you decide to do, make sure to provide sufficient justification of why you think what you want to do or solve is important and why would a client or a group of people be interested in your project.\n",
    "\n",
    "__Review criteria__\n",
    "This capstone project will be graded by your peers. This capstone project is worth __70%__ of your total grade. The project will be completed over the course of __2 weeks__. Week 1 submissions will be worth __30%__ whereas week 2 submissions will be worth __40%__ of your total grade.\n",
    "\n",
    "For this week, you will required to submit the following:\n",
    "\n",
    "1. A description of the problem and a discussion of the background. (__15 marks__)\n",
    "2. A description of the data and how it will be used to solve the problem. (__15 marks__)\n",
    "\n",
    "For the second week, the final deliverables of the project will be:\n",
    "\n",
    "1. A link to your Notebook on your Github repository, showing your code. (__15 marks__)\n",
    "2. A full report consisting of all of the following components (__15 marks__):\n",
    "- Introduction where you discuss the business problem and who would be interested in this project.\n",
    "- Data where you describe the data that will be used to solve the problem and the source of the data.\n",
    "- Methodology section which represents the main component of the report where you discuss and describe any exploratory data analysis that you did, any inferential statistical testing that you performed, if any, and what machine learnings were used and why.\n",
    "- Results section where you discuss the results.\n",
    "- Discussion section where you discuss any observations you noted and any recommendations you can make based on the results.\n",
    "- Conclusion section where you conclude the report.\n",
    "3. Your choice of a presentation or blogpost. (__10 marks__)"
   ]
  },
  {
   "cell_type": "markdown",
   "metadata": {},
   "source": [
    "# Find the Best Place to Open an Brazilian restaurant in Toronto\n",
    "\n",
    "## 1. A description of the problem and a discussion of the background\n",
    "\n",
    "My proposal for this project is to find the best place to open a Brazilian restaurant in Toronto. I will take advantage of the fact that I am Brazilian and I know this very special cuisine very well and use the knowledge and tools of the course to find the best place to open a new restaurant.\n",
    "\n",
    "Choosing the right place to start a business is one of the first and very important decisions and determines important aspects in the management and development success rate.\n",
    "Different factors that can directly affect the success chance of business. It is important to evaluate neighborhoods based on the factors that are important for running a successful business such as the number of competitors and the potential demand in that neighborhood. Budget limitations in renting or buying a place that plays an important role in location decision making for small businesses.\n",
    "\n",
    "### Business Problem\n",
    "\n",
    "There is not an exact single \"national Brazilian cuisine\" but there is an assortment of various regional traditions and typical dishes. This diversity is due to the origins of the people inhabiting each area and it makes this cuisine so special.\n",
    "In this project, I want to find the best neighborhood in Toronto to open a Brasilian cuisine restaurant. The challenge is to find a suitable neighborhood that is close enough to some amenities and venues, has fewer competitors, and of course is affordable to rent. The restaurant is good to be near a place where many people visit such as near a cinema, park, garden, playground, and theater.\n",
    "\n",
    "## 2. A description of the data and how it will be used to solve the problem.\n",
    "\n",
    "I will use the Toronto data set acquired from Wikipedia last week. The data set consists of latitude and longitude, postal codes.\n",
    "\n",
    "Foursquare API Data:\n",
    "I will use Foursquare API locational information in a similar way we did las week.\n",
    "Foursquare is a location data provider with information about all manner of venues and events within an area of interest. Such information includes venue names, locations, menus, and even photos.\n",
    "\n",
    "After obtaining the list of neighborhoods, I can use the Foursquare API to collect information about places within each neighborhood.\n",
    "\n",
    "The data retrieved from Foursquare contained information of venues within a specified distance of the longitude and latitude of the postcodes. Afterward, I can use the K-means clustering algorithm to find the best place to open the restaurant."
   ]
  },
  {
   "cell_type": "markdown",
   "metadata": {},
   "source": []
  }
 ],
 "metadata": {
  "kernelspec": {
   "display_name": "Python 3",
   "language": "python",
   "name": "python3"
  },
  "language_info": {
   "codemirror_mode": {
    "name": "ipython",
    "version": 3
   },
   "file_extension": ".py",
   "mimetype": "text/x-python",
   "name": "python",
   "nbconvert_exporter": "python",
   "pygments_lexer": "ipython3",
   "version": "3.7.6"
  }
 },
 "nbformat": 4,
 "nbformat_minor": 4
}
